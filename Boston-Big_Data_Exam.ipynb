{
 "cells": [
  {
   "cell_type": "markdown",
   "metadata": {},
   "source": [
    "# Boston-Big Data Exam\n",
    "Mayur Kolki\n",
    "\n",
    "PGA14"
   ]
  },
  {
   "cell_type": "markdown",
   "metadata": {},
   "source": [
    "## Q2. Read the data from Hive table as spark dataframe "
   ]
  },
  {
   "cell_type": "code",
   "execution_count": 1,
   "metadata": {},
   "outputs": [],
   "source": [
    "# Import pySpark in anaconda\n",
    "import pandas as pd\n",
    "from pyspark.sql import SparkSession\n",
    "\n",
    "# Create spark session object\n",
    "spark=SparkSession.builder.appName('lin_reg').getOrCreate()\n",
    "\n",
    "# Import Linear Regression from MLib\n",
    "from pyspark.ml.regression import LinearRegression"
   ]
  },
  {
   "cell_type": "code",
   "execution_count": 2,
   "metadata": {},
   "outputs": [],
   "source": [
    "# Load Dataset\n",
    "\n",
    "df = spark.read.csv('file:///home/hduser/demo_1/boston.csv',inferSchema=True, header=True)"
   ]
  },
  {
   "cell_type": "code",
   "execution_count": 3,
   "metadata": {},
   "outputs": [
    {
     "name": "stdout",
     "output_type": "stream",
     "text": [
      "(506, 14)\n"
     ]
    }
   ],
   "source": [
    "# Check the shape of dataset\n",
    "# Rows              Columns\n",
    "print((df.count(), len(df.columns)))"
   ]
  },
  {
   "cell_type": "markdown",
   "metadata": {},
   "source": [
    "## Q3. Get the correlation between dependent and independent variables"
   ]
  },
  {
   "cell_type": "code",
   "execution_count": 5,
   "metadata": {},
   "outputs": [],
   "source": [
    "#import corr function/library from pyspark functions\n",
    "\n",
    "from pyspark.sql.functions import corr"
   ]
  },
  {
   "cell_type": "code",
   "execution_count": 6,
   "metadata": {},
   "outputs": [
    {
     "name": "stdout",
     "output_type": "stream",
     "text": [
      "+-------------------+\n",
      "|     corr(CRIM, MV)|\n",
      "+-------------------+\n",
      "|-0.3883046116575089|\n",
      "+-------------------+\n",
      "\n",
      "+-----------------+\n",
      "|     corr(ZN, MV)|\n",
      "+-----------------+\n",
      "|0.360445344637529|\n",
      "+-----------------+\n",
      "\n"
     ]
    }
   ],
   "source": [
    "df.select(corr('CRIM','MV')).show() ; df.select(corr('ZN','MV')).show()"
   ]
  },
  {
   "cell_type": "markdown",
   "metadata": {},
   "source": [
    "## Q4. Build a linear regression model to predict house price"
   ]
  },
  {
   "cell_type": "code",
   "execution_count": 12,
   "metadata": {},
   "outputs": [],
   "source": [
    "#import vectorassembler to create dense vectors\n",
    "\n",
    "from pyspark.ml.linalg import Vector\n",
    "from pyspark.ml.feature import VectorAssembler"
   ]
  },
  {
   "cell_type": "code",
   "execution_count": 13,
   "metadata": {},
   "outputs": [
    {
     "data": {
      "text/plain": [
       "['CRIM',\n",
       " 'ZN',\n",
       " 'INDUS',\n",
       " 'CHAS',\n",
       " 'NOX',\n",
       " 'RM',\n",
       " 'AGE',\n",
       " 'DIS',\n",
       " 'RAD',\n",
       " 'TAX',\n",
       " 'PT',\n",
       " 'B',\n",
       " 'LSTAT',\n",
       " 'MV']"
      ]
     },
     "execution_count": 13,
     "metadata": {},
     "output_type": "execute_result"
    }
   ],
   "source": [
    "#select the columns to create input vector\n",
    "df.columns"
   ]
  },
  {
   "cell_type": "code",
   "execution_count": 14,
   "metadata": {},
   "outputs": [],
   "source": [
    "#create the vector assembler\n",
    "vec_assmebler=VectorAssembler(inputCols=['CRIM','ZN','INDUS','CHAS','NOX','RM','AGE','DIS','RAD','TAX','PT','B','LSTAT',],outputCol='features')"
   ]
  },
  {
   "cell_type": "code",
   "execution_count": 15,
   "metadata": {},
   "outputs": [],
   "source": [
    "#transform the values\n",
    "features_df=vec_assmebler.transform(df)"
   ]
  },
  {
   "cell_type": "code",
   "execution_count": 16,
   "metadata": {},
   "outputs": [
    {
     "name": "stdout",
     "output_type": "stream",
     "text": [
      "root\n",
      " |-- CRIM: double (nullable = true)\n",
      " |-- ZN: double (nullable = true)\n",
      " |-- INDUS: double (nullable = true)\n",
      " |-- CHAS: integer (nullable = true)\n",
      " |-- NOX: double (nullable = true)\n",
      " |-- RM: double (nullable = true)\n",
      " |-- AGE: double (nullable = true)\n",
      " |-- DIS: double (nullable = true)\n",
      " |-- RAD: integer (nullable = true)\n",
      " |-- TAX: integer (nullable = true)\n",
      " |-- PT: double (nullable = true)\n",
      " |-- B: double (nullable = true)\n",
      " |-- LSTAT: double (nullable = true)\n",
      " |-- MV: double (nullable = true)\n",
      " |-- features: vector (nullable = true)\n",
      "\n"
     ]
    }
   ],
   "source": [
    "#validate the presence of dense vectors\n",
    "features_df.printSchema()"
   ]
  },
  {
   "cell_type": "code",
   "execution_count": 17,
   "metadata": {},
   "outputs": [
    {
     "name": "stdout",
     "output_type": "stream",
     "text": [
      "+-------------------------------------------------------------------------------------------------------------------------------+\n",
      "|features                                                                                                                       |\n",
      "+-------------------------------------------------------------------------------------------------------------------------------+\n",
      "|[0.00632,18.0,2.309999943,0.0,0.537999988,6.574999809,65.19999695,4.090000153,1.0,296.0,15.30000019,396.8999939,4.980000019]   |\n",
      "|[0.027310001,0.0,7.070000172,0.0,0.469000012,6.421000004,78.90000153,4.967100143,2.0,242.0,17.79999924,396.8999939,9.140000343]|\n",
      "|[0.02729,0.0,7.070000172,0.0,0.469000012,7.184999943,61.09999847,4.967100143,2.0,242.0,17.79999924,392.8299866,4.03000021]     |\n",
      "|[0.032370001,0.0,2.180000067,0.0,0.458000004,6.998000145,45.79999924,6.062200069,3.0,222.0,18.70000076,394.6300049,2.940000057]|\n",
      "|[0.069049999,0.0,2.180000067,0.0,0.458000004,7.146999836,54.20000076,6.062200069,3.0,222.0,18.70000076,396.8999939,5.329999924]|\n",
      "+-------------------------------------------------------------------------------------------------------------------------------+\n",
      "only showing top 5 rows\n",
      "\n"
     ]
    }
   ],
   "source": [
    "#view the details of dense vector\n",
    "features_df.select('features').show(5,False)"
   ]
  },
  {
   "cell_type": "code",
   "execution_count": 18,
   "metadata": {},
   "outputs": [],
   "source": [
    "#create data containing input features and output column\n",
    "model_df=features_df.select('features','MV')"
   ]
  },
  {
   "cell_type": "code",
   "execution_count": 19,
   "metadata": {},
   "outputs": [
    {
     "name": "stdout",
     "output_type": "stream",
     "text": [
      "+-------------------------------------------------------------------------------------------------------------------------------+-----------+\n",
      "|features                                                                                                                       |MV         |\n",
      "+-------------------------------------------------------------------------------------------------------------------------------+-----------+\n",
      "|[0.00632,18.0,2.309999943,0.0,0.537999988,6.574999809,65.19999695,4.090000153,1.0,296.0,15.30000019,396.8999939,4.980000019]   |24.0       |\n",
      "|[0.027310001,0.0,7.070000172,0.0,0.469000012,6.421000004,78.90000153,4.967100143,2.0,242.0,17.79999924,396.8999939,9.140000343]|21.60000038|\n",
      "|[0.02729,0.0,7.070000172,0.0,0.469000012,7.184999943,61.09999847,4.967100143,2.0,242.0,17.79999924,392.8299866,4.03000021]     |34.70000076|\n",
      "|[0.032370001,0.0,2.180000067,0.0,0.458000004,6.998000145,45.79999924,6.062200069,3.0,222.0,18.70000076,394.6300049,2.940000057]|33.40000153|\n",
      "|[0.069049999,0.0,2.180000067,0.0,0.458000004,7.146999836,54.20000076,6.062200069,3.0,222.0,18.70000076,396.8999939,5.329999924]|36.20000076|\n",
      "+-------------------------------------------------------------------------------------------------------------------------------+-----------+\n",
      "only showing top 5 rows\n",
      "\n"
     ]
    }
   ],
   "source": [
    "model_df.show(5,False)"
   ]
  },
  {
   "cell_type": "code",
   "execution_count": 20,
   "metadata": {},
   "outputs": [
    {
     "name": "stdout",
     "output_type": "stream",
     "text": [
      "(506, 2)\n"
     ]
    }
   ],
   "source": [
    "# shape of model df\n",
    "print((model_df.count(), len(model_df.columns)))"
   ]
  },
  {
   "cell_type": "code",
   "execution_count": 21,
   "metadata": {},
   "outputs": [],
   "source": [
    "## Split Data - Train & Test sets\n",
    "\n",
    "#split the data into 70/30 ratio for train test purpose\n",
    "train_df,test_df=model_df.randomSplit([0.7,0.3])"
   ]
  },
  {
   "cell_type": "code",
   "execution_count": 22,
   "metadata": {},
   "outputs": [
    {
     "name": "stdout",
     "output_type": "stream",
     "text": [
      "(357, 2)\n"
     ]
    }
   ],
   "source": [
    "# Dimension of Train data\n",
    "\n",
    "print((train_df.count(), len(train_df.columns)))"
   ]
  },
  {
   "cell_type": "code",
   "execution_count": 23,
   "metadata": {},
   "outputs": [
    {
     "name": "stdout",
     "output_type": "stream",
     "text": [
      "(149, 2)\n"
     ]
    }
   ],
   "source": [
    "# Dimension of Test data\n",
    "\n",
    "print((test_df.count(), len(test_df.columns)))"
   ]
  },
  {
   "cell_type": "code",
   "execution_count": 25,
   "metadata": {},
   "outputs": [],
   "source": [
    "#Build Linear Regression model\n",
    "\n",
    "lin_Reg=LinearRegression(labelCol='MV')"
   ]
  },
  {
   "cell_type": "code",
   "execution_count": 26,
   "metadata": {},
   "outputs": [],
   "source": [
    "#fit the linear regression model on training data set\n",
    "\n",
    "lr_model=lin_Reg.fit(train_df)"
   ]
  },
  {
   "cell_type": "code",
   "execution_count": null,
   "metadata": {},
   "outputs": [],
   "source": [
    "# Prediction \n",
    "\n",
    "training_predictions=lr_model.evaluate(train_df)"
   ]
  },
  {
   "cell_type": "code",
   "execution_count": 85,
   "metadata": {},
   "outputs": [
    {
     "data": {
      "text/plain": [
       "21.777646447204766"
      ]
     },
     "execution_count": 85,
     "metadata": {},
     "output_type": "execute_result"
    }
   ],
   "source": [
    "# Training MSE\n",
    "\n",
    "training_predictions.meanSquaredError"
   ]
  },
  {
   "cell_type": "code",
   "execution_count": 86,
   "metadata": {},
   "outputs": [
    {
     "data": {
      "text/plain": [
       "0.727370137782524"
      ]
     },
     "execution_count": 86,
     "metadata": {},
     "output_type": "execute_result"
    }
   ],
   "source": [
    "# R Square\n",
    "\n",
    "training_predictions.r2"
   ]
  },
  {
   "cell_type": "markdown",
   "metadata": {},
   "source": [
    "## Q5. Evaluate the Linear Regression model by getting the RMSE and R-squared values"
   ]
  },
  {
   "cell_type": "code",
   "execution_count": 87,
   "metadata": {},
   "outputs": [],
   "source": [
    "#make predictions on test data\n",
    "test_results=lr_model.evaluate(test_df)"
   ]
  },
  {
   "cell_type": "code",
   "execution_count": 90,
   "metadata": {},
   "outputs": [
    {
     "data": {
      "text/plain": [
       "0.7444034376599911"
      ]
     },
     "execution_count": 90,
     "metadata": {},
     "output_type": "execute_result"
    }
   ],
   "source": [
    "#coefficient of determination value for model\n",
    "\n",
    "test_results.r2"
   ]
  },
  {
   "cell_type": "code",
   "execution_count": 91,
   "metadata": {},
   "outputs": [
    {
     "data": {
      "text/plain": [
       "4.890333189486392"
      ]
     },
     "execution_count": 91,
     "metadata": {},
     "output_type": "execute_result"
    }
   ],
   "source": [
    "# RMSE - Root Mean Square Error\n",
    "\n",
    "test_results.rootMeanSquaredError"
   ]
  },
  {
   "cell_type": "code",
   "execution_count": 92,
   "metadata": {},
   "outputs": [
    {
     "data": {
      "text/plain": [
       "23.915358704192148"
      ]
     },
     "execution_count": 92,
     "metadata": {},
     "output_type": "execute_result"
    }
   ],
   "source": [
    "test_results.meanSquaredError"
   ]
  }
 ],
 "metadata": {
  "kernelspec": {
   "display_name": "Python 3",
   "language": "python",
   "name": "python3"
  },
  "language_info": {
   "codemirror_mode": {
    "name": "ipython",
    "version": 3
   },
   "file_extension": ".py",
   "mimetype": "text/x-python",
   "name": "python",
   "nbconvert_exporter": "python",
   "pygments_lexer": "ipython3",
   "version": "3.7.10"
  }
 },
 "nbformat": 4,
 "nbformat_minor": 2
}
